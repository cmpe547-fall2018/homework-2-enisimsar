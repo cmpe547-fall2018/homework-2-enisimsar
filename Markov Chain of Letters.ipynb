{
 "cells": [
  {
   "cell_type": "markdown",
   "metadata": {},
   "source": [
    "Name: **Enis Simsar (2014400219)**\n",
    "\n",
    "I hereby declare that I observed the honour code of the university when preparing the homework."
   ]
  },
  {
   "cell_type": "markdown",
   "metadata": {},
   "source": [
    "## Programming Homework\n",
    "\n",
    "In this exercise we model a string of text using a Markov(1) model. For simplicity we only consider letters 'a-z'. Capital letters 'A-Z' are mapped to the corresponding ones. All remaining letters, symbols, numbers, including spaces, are denoted by '.'.\n",
    "\n",
    "\n",
    "We have a probability table $T$ where $T_{i,j} = p(x_t = j | x_{t-1} = i)$  transition model of letters in English text for $t=1,2 \\dots N$. Assume that the initial letter in a string is always a space denoted as $x_0 = \\text{'.'}$. Such a model where the probability table is always the same is sometimes called a stationary model.\n",
    "\n",
    "1. For a given $N$, write a program to sample random strings with letters $x_1, x_2, \\dots, x_N$ from $p(x_{1:N}|x_0)$\n",
    "1. Now suppose you are given strings with missing letters, where each missing letter is denoted by a question mark (or underscore, as below). Implement a method, that samples missing letters conditioned on observed ones, i.e., samples from $p(x_{-\\alpha}|x_{\\alpha})$ where $\\alpha$ denotes indices of observed letters. For example, if the input is 't??.', we have $N=4$ and\n",
    "$x_1 = \\text{'t'}$ and $x_4 = \\text{'.'}$, $\\alpha=\\{1,4\\}$ and $-\\alpha=\\{2,3\\}$. Your program may possibly generate the strings 'the.', 'twi.', 'tee.', etc. Hint: make sure to make use all data given and sample from the correct distribution. Implement the method and print the results for the test strings below. \n",
    "1. Describe a method for filling in the gaps by estimating the most likely letter for each position. Hint: you need to compute\n",
    "$$\n",
    "x_{-\\alpha}^* = \\arg\\max_{x_{-\\alpha}} p(x_{-\\alpha}|x_{\\alpha})\n",
    "$$\n",
    "Implement the method and print the results for the following test strings along with the log-probability  $\\log p(x_{-\\alpha}^*,x_{\\alpha})$.\n",
    "1. Discuss how you can improve the model to get better estimations."
   ]
  },
  {
   "cell_type": "code",
   "execution_count": 2,
   "metadata": {},
   "outputs": [],
   "source": [
    "test_strings = ['th__br__n.f_x.', '_u_st__n_.to_be._nsw_r__','i__at_._a_h_n_._e_r_i_g','q___t.___z._____t.__.___.__.']"
   ]
  },
  {
   "cell_type": "markdown",
   "metadata": {},
   "source": [
    "Hint: The code below loads a table of transition probabilities for English text."
   ]
  },
  {
   "cell_type": "code",
   "execution_count": 3,
   "metadata": {
    "scrolled": true
   },
   "outputs": [
    {
     "name": "stdout",
     "output_type": "stream",
     "text": [
      "Example\n"
     ]
    },
    {
     "data": {
      "text/latex": [
       "$p(x_t = \\text{'u'} | x_{t-1} = \\text{'q'})$"
      ],
      "text/plain": [
       "<IPython.core.display.Latex object>"
      ]
     },
     "metadata": {},
     "output_type": "display_data"
    },
    {
     "name": "stdout",
     "output_type": "stream",
     "text": [
      "0.9949749\n"
     ]
    },
    {
     "data": {
      "text/latex": [
       "$p(x_t | x_{t-1} = \\text{'a'})$"
      ],
      "text/plain": [
       "<IPython.core.display.Latex object>"
      ]
     },
     "metadata": {},
     "output_type": "display_data"
    },
    {
     "name": "stdout",
     "output_type": "stream",
     "text": [
      "a 0.0002835\n",
      "b 0.0228302\n",
      "c 0.0369041\n",
      "d 0.0426290\n",
      "e 0.0012216\n",
      "f 0.0075739\n",
      "g 0.0171385\n",
      "h 0.0014659\n",
      "i 0.0372661\n",
      "j 0.0002353\n",
      "k 0.0110124\n",
      "l 0.0778259\n",
      "m 0.0260757\n",
      "n 0.2145354\n",
      "o 0.0005459\n",
      "p 0.0195213\n",
      "q 0.0001749\n",
      "r 0.1104770\n",
      "s 0.0934290\n",
      "t 0.1317960\n",
      "u 0.0098029\n",
      "v 0.0306574\n",
      "w 0.0088799\n",
      "x 0.0009562\n",
      "y 0.0233701\n",
      "z 0.0018701\n",
      ". 0.0715219\n"
     ]
    }
   ],
   "source": [
    "import csv\n",
    "from IPython.display import display, Latex\n",
    "\n",
    "alphabet = [chr(i+ord('a')) for i in range(26)]\n",
    "alphabet.append('.')\n",
    "letter2idx = {c:i for i,c in enumerate(alphabet)}\n",
    "\n",
    "T = []\n",
    "with open('transitions.csv') as csvfile:\n",
    "    reader = csv.reader(csvfile, delimiter=',')\n",
    "    for row in reader:\n",
    "        T.append(row)\n",
    "\n",
    "print('Example')\n",
    "## p(x_t = 'u' | x_{t-1} = 'q')\n",
    "display(Latex(r\"$p(x_t = \\text{'u'} | x_{t-1} = \\text{'q'})$\"))\n",
    "print(T[letter2idx['q']][letter2idx['u']])\n",
    "display(Latex(r\"$p(x_t | x_{t-1} = \\text{'a'})$\"))\n",
    "for c,p in zip(alphabet,T[letter2idx['a']]):\n",
    "    print(c,p)"
   ]
  },
  {
   "cell_type": "markdown",
   "metadata": {},
   "source": [
    "### Solutions"
   ]
  },
  {
   "cell_type": "code",
   "execution_count": 4,
   "metadata": {},
   "outputs": [],
   "source": [
    "import numpy as np"
   ]
  },
  {
   "cell_type": "code",
   "execution_count": 71,
   "metadata": {},
   "outputs": [],
   "source": [
    "PRE_CALC_T_TABLE = 100"
   ]
  },
  {
   "cell_type": "code",
   "execution_count": 72,
   "metadata": {},
   "outputs": [],
   "source": [
    "T = np.array(T).astype(np.float)\n",
    "get_prob = lambda t, t_1: T[letter2idx[t_1 if t_1 in alphabet else '.']][letter2idx[t if t in alphabet else '.']]\n",
    "pre_calc_T = np.zeros((PRE_CALC_T_TABLE, T.shape[0], T.shape[1]))\n",
    "pre_calc_T[0] = T\n",
    "for i in range(1, PRE_CALC_T_TABLE):\n",
    "    pre_calc_T[i] = pre_calc_T[i - 1].dot(T)"
   ]
  },
  {
   "cell_type": "markdown",
   "metadata": {},
   "source": [
    "**1.** For a given $N$, write a program to sample random strings with letters $x_1, x_2, \\dots, x_N$ from $p(x_{1:N}|x_0)$"
   ]
  },
  {
   "cell_type": "code",
   "execution_count": 73,
   "metadata": {},
   "outputs": [
    {
     "name": "stdout",
     "output_type": "stream",
     "text": [
      "Generated str:\t tha \n",
      "with prob:\t 0.00773980806778933\n"
     ]
    }
   ],
   "source": [
    "def generate_string(str_len):\n",
    "    generated_string, generated_string_prob = '', 1\n",
    "    for i in range(str_len):\n",
    "        prev_char = generated_string[i-1] if i > 0 else '.'\n",
    "        rand_p = np.random.uniform(low=0, high=T[letter2idx[prev_char]].max())\n",
    "        for char in alphabet:\n",
    "            prob = get_prob(char, prev_char)\n",
    "            if rand_p <= prob:\n",
    "                generated_string_prob *= prob\n",
    "                generated_string += char\n",
    "                break\n",
    "    return generated_string, generated_string_prob\n",
    "\n",
    "generated_string, generated_string_prob = generate_string(3)\n",
    "print(\"Generated str:\\t {0} \\nwith prob:\\t {1}\".format(generated_string, generated_string_prob))"
   ]
  },
  {
   "cell_type": "markdown",
   "metadata": {},
   "source": [
    "**2.** Now suppose you are given strings with missing letters, where each missing letter is denoted by a question mark (or underscore, as below). Implement a method, that samples missing letters conditioned on observed ones, i.e., samples from $p(x_{-\\alpha}|x_{\\alpha})$ where $\\alpha$ denotes indices of observed letters. For example, if the input is 't??.', we have $N=4$ and\n",
    "$x_1 = \\text{'t'}$ and $x_4 = \\text{'.'}$, $\\alpha=\\{1,4\\}$ and $-\\alpha=\\{2,3\\}$. Your program may possibly generate the strings 'the.', 'twi.', 'tee.', etc.\n",
    "\n",
    "Hint: make sure to make use all data given and sample from the correct distribution. Implement the method and print the results for the test strings below. "
   ]
  },
  {
   "cell_type": "code",
   "execution_count": 97,
   "metadata": {},
   "outputs": [
    {
     "name": "stdout",
     "output_type": "stream",
     "text": [
      "Given str:\t th__br__n.f_x. \n",
      "Filled str:\t the.brean.fex. \n",
      "Filled str prob: 0.024830577322212846\n",
      "----------\n",
      "Given str:\t _u_st__n_.to_be._nsw_r__ \n",
      "Filled str:\t ouasthand.tombe.answared \n",
      "Filled str prob: 1.3143255942279403e-06\n",
      "----------\n",
      "Given str:\t i__at_._a_h_n_._e_r_i_g \n",
      "Filled str:\t ingata.cathand.bearaing \n",
      "Filled str prob: 5.167412697041578e-09\n",
      "----------\n",
      "Given str:\t q___t.___z._____t.__.___.__. \n",
      "Filled str:\t qur.t.thaz.the.at.ad.and.ad. \n",
      "Filled str prob: 5.858983418512638e-12\n",
      "----------\n"
     ]
    }
   ],
   "source": [
    "def fill_string(missing_str):\n",
    "    missing_str = '.' + missing_str\n",
    "    filled_str, filled_str_prob = '.', 1\n",
    "    for i in range(len(missing_str) - 1):\n",
    "        prev_char = filled_str[i]\n",
    "        curr_char = missing_str[i+1]\n",
    "        if curr_char not in alphabet:\n",
    "            right_prob = T.copy()\n",
    "            j = i + 2\n",
    "            count = 0\n",
    "            while j < len(missing_str) and missing_str[j] not in alphabet:\n",
    "                count += 1\n",
    "                j += 1\n",
    "            right_prob = pre_calc_T[count]\n",
    "            right_letter = missing_str[j] if j < len(missing_str) else '.'\n",
    "            right_prob_with_elem = right_prob[:,letter2idx[right_letter]]\n",
    "            left_prop_with_elem = T[letter2idx[prev_char]]\n",
    "            \n",
    "            chain_prob = pre_calc_T[count+1]\n",
    "            \n",
    "            result = right_prob_with_elem * left_prop_with_elem / chain_prob[letter2idx[prev_char]][letter2idx[right_letter]]\n",
    "            \n",
    "            rand_p = np.random.uniform(low=0, high=result.max())\n",
    "            for index in range(len(result)):\n",
    "                if rand_p <= result[index]:\n",
    "                    filled_str_prob *= result[index]\n",
    "                    filled_str += alphabet[index]\n",
    "                    break\n",
    "        else:\n",
    "            filled_str += curr_char\n",
    "    return filled_str[1:], filled_str_prob\n",
    "# th__br__n.f_x.\n",
    "for test_str in test_strings:\n",
    "    filled_str, filled_str_prob = fill_string(test_str)\n",
    "    print(\"Given str:\\t {0} \\nFilled str:\\t {1} \\nFilled str prob: {2}\\n----------\".format(test_str, filled_str, filled_str_prob))"
   ]
  },
  {
   "cell_type": "markdown",
   "metadata": {},
   "source": [
    "**3.** Describe a method for filling in the gaps by estimating the most likely letter for each position. Hint: you need to compute\n",
    "$$\n",
    "x_{-\\alpha}^* = \\arg\\max_{x_{-\\alpha}} p(x_{-\\alpha}|x_{\\alpha})\n",
    "$$\n",
    "Implement the method and print the results for the following test strings along with the log-probability  $\\log p(x_{-\\alpha}^*,x_{\\alpha})$."
   ]
  },
  {
   "cell_type": "code",
   "execution_count": null,
   "metadata": {},
   "outputs": [],
   "source": []
  },
  {
   "cell_type": "markdown",
   "metadata": {},
   "source": [
    "**4.** Discuss how you can improve the model to get better estimations."
   ]
  },
  {
   "cell_type": "markdown",
   "metadata": {},
   "source": []
  }
 ],
 "metadata": {
  "kernelspec": {
   "display_name": "Python 3",
   "language": "python",
   "name": "python3"
  },
  "language_info": {
   "codemirror_mode": {
    "name": "ipython",
    "version": 3
   },
   "file_extension": ".py",
   "mimetype": "text/x-python",
   "name": "python",
   "nbconvert_exporter": "python",
   "pygments_lexer": "ipython3",
   "version": "3.6.7"
  }
 },
 "nbformat": 4,
 "nbformat_minor": 2
}
